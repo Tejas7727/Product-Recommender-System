{
 "cells": [
  {
   "cell_type": "markdown",
   "metadata": {},
   "source": [
    "# Collaborative Filtering"
   ]
  },
  {
   "cell_type": "code",
   "execution_count": 1,
   "metadata": {},
   "outputs": [],
   "source": [
    "import pandas as pd\n",
    "import numpy as np"
   ]
  },
  {
   "cell_type": "code",
   "execution_count": 23,
   "metadata": {},
   "outputs": [],
   "source": [
    "#importing Data\n",
    "df = pd.read_csv(\"Sampled_rating_Beauty.csv\")\n",
    "df.head()\n",
    "df = df.iloc[:,1:4]\n"
   ]
  },
  {
   "cell_type": "code",
   "execution_count": 4,
   "metadata": {},
   "outputs": [],
   "source": [
    "User_Index = df.pivot_table(values='Rating', index='UserId', columns='ProductId', fill_value=0)\n",
    "Product_Index = df.pivot_table(values='Rating', index='UserId', columns='ProductId', fill_value=0)"
   ]
  },
  {
   "cell_type": "markdown",
   "metadata": {},
   "source": [
    "## User - User Collaborative filtering\n",
    "#### What is User - User Collaborative filtering?\n",
    "- ... means finding customers with simmilar interests and recommanding product accordingly.\n",
    "- example: If User A have liked products {1, 2, 3, 4} and User B have liked products {1, 2, 3}, there are high chances of User B liking Product {4}. Our system will recommend products acordingly.\n",
    "\n",
    "#### How we will acieve it?\n",
    "- Using K- Means clustering\n",
    "- We will devide all the users into 10 clusters based on the ratings they have given to different products. That will give us 10 different kind of simmiler customers."
   ]
  },
  {
   "cell_type": "code",
   "execution_count": 5,
   "metadata": {},
   "outputs": [],
   "source": [
    "from sklearn.cluster import KMeans\n",
    "kmeans = KMeans(n_clusters=10, random_state=0).fit(User_Index)\n",
    "d = {'UserId':User_Index.index, 'UserCluster':kmeans.predict(User_Index)}\n",
    "data = pd.DataFrame(data=d)"
   ]
  },
  {
   "cell_type": "markdown",
   "metadata": {},
   "source": [
    "\n",
    "## Item - Item Collaborative filtering\n",
    "#### What is Item - Item Collaborative filtering?\n",
    "- This approach will recommend the items that are went together frequently\n",
    "\n",
    "#### How we will acieve it?\n",
    "- Using K- Means clustering\n",
    "- We will use same method as User - user collaborative filtering, but here we will devide items into different clusters instead of Users"
   ]
  },
  {
   "cell_type": "code",
   "execution_count": 7,
   "metadata": {},
   "outputs": [],
   "source": [
    "kmeans_product = KMeans(n_clusters=10, random_state=0).fit(Product_Index)\n",
    "dp = {'ProductId':Product_Index.index, 'ProductCluster':kmeans_product.predict(Product_Index)}"
   ]
  },
  {
   "cell_type": "code",
   "execution_count": 9,
   "metadata": {},
   "outputs": [],
   "source": [
    "data_pro = pd.DataFrame(data=dp)"
   ]
  },
  {
   "cell_type": "markdown",
   "metadata": {},
   "source": [
    "## Merging Cluster data to main dataframe"
   ]
  },
  {
   "cell_type": "code",
   "execution_count": 24,
   "metadata": {},
   "outputs": [],
   "source": [
    "df = df.sort_values(by=\"UserId\")\n",
    "data = data.sort_values(by=\"UserId\")\n",
    "df = df.merge(data, how='inner', on='UserId')"
   ]
  },
  {
   "cell_type": "code",
   "execution_count": 25,
   "metadata": {},
   "outputs": [],
   "source": [
    "df = df.sort_values(by=\"ProductId\")\n",
    "data_pro = data_pro.sort_values(by=\"ProductId\")\n",
    "df = df.merge(data_pro, how=\"inner\", on = \"ProductId\")"
   ]
  },
  {
   "cell_type": "code",
   "execution_count": 26,
   "metadata": {},
   "outputs": [
    {
     "data": {
      "text/html": [
       "<div>\n",
       "<style scoped>\n",
       "    .dataframe tbody tr th:only-of-type {\n",
       "        vertical-align: middle;\n",
       "    }\n",
       "\n",
       "    .dataframe tbody tr th {\n",
       "        vertical-align: top;\n",
       "    }\n",
       "\n",
       "    .dataframe thead th {\n",
       "        text-align: right;\n",
       "    }\n",
       "</style>\n",
       "<table border=\"1\" class=\"dataframe\">\n",
       "  <thead>\n",
       "    <tr style=\"text-align: right;\">\n",
       "      <th></th>\n",
       "      <th>UserId</th>\n",
       "      <th>ProductId</th>\n",
       "      <th>Rating</th>\n",
       "      <th>UserCluster</th>\n",
       "      <th>ProductCluster</th>\n",
       "    </tr>\n",
       "  </thead>\n",
       "  <tbody>\n",
       "    <tr>\n",
       "      <th>83704</th>\n",
       "      <td>0</td>\n",
       "      <td>5052</td>\n",
       "      <td>3.0</td>\n",
       "      <td>8</td>\n",
       "      <td>8</td>\n",
       "    </tr>\n",
       "    <tr>\n",
       "      <th>66954</th>\n",
       "      <td>0</td>\n",
       "      <td>4341</td>\n",
       "      <td>1.0</td>\n",
       "      <td>8</td>\n",
       "      <td>6</td>\n",
       "    </tr>\n",
       "    <tr>\n",
       "      <th>64914</th>\n",
       "      <td>0</td>\n",
       "      <td>4200</td>\n",
       "      <td>2.0</td>\n",
       "      <td>8</td>\n",
       "      <td>8</td>\n",
       "    </tr>\n",
       "    <tr>\n",
       "      <th>62019</th>\n",
       "      <td>0</td>\n",
       "      <td>4002</td>\n",
       "      <td>3.0</td>\n",
       "      <td>8</td>\n",
       "      <td>8</td>\n",
       "    </tr>\n",
       "    <tr>\n",
       "      <th>94788</th>\n",
       "      <td>0</td>\n",
       "      <td>5570</td>\n",
       "      <td>5.0</td>\n",
       "      <td>8</td>\n",
       "      <td>8</td>\n",
       "    </tr>\n",
       "    <tr>\n",
       "      <th>24031</th>\n",
       "      <td>1</td>\n",
       "      <td>1627</td>\n",
       "      <td>4.0</td>\n",
       "      <td>8</td>\n",
       "      <td>8</td>\n",
       "    </tr>\n",
       "    <tr>\n",
       "      <th>26446</th>\n",
       "      <td>1</td>\n",
       "      <td>1783</td>\n",
       "      <td>4.0</td>\n",
       "      <td>8</td>\n",
       "      <td>8</td>\n",
       "    </tr>\n",
       "    <tr>\n",
       "      <th>81863</th>\n",
       "      <td>1</td>\n",
       "      <td>4923</td>\n",
       "      <td>3.0</td>\n",
       "      <td>8</td>\n",
       "      <td>1</td>\n",
       "    </tr>\n",
       "    <tr>\n",
       "      <th>58489</th>\n",
       "      <td>1</td>\n",
       "      <td>3806</td>\n",
       "      <td>4.0</td>\n",
       "      <td>8</td>\n",
       "      <td>8</td>\n",
       "    </tr>\n",
       "    <tr>\n",
       "      <th>69241</th>\n",
       "      <td>2</td>\n",
       "      <td>4447</td>\n",
       "      <td>5.0</td>\n",
       "      <td>8</td>\n",
       "      <td>2</td>\n",
       "    </tr>\n",
       "  </tbody>\n",
       "</table>\n",
       "</div>"
      ],
      "text/plain": [
       "       UserId  ProductId  Rating  UserCluster  ProductCluster\n",
       "83704       0       5052     3.0            8               8\n",
       "66954       0       4341     1.0            8               6\n",
       "64914       0       4200     2.0            8               8\n",
       "62019       0       4002     3.0            8               8\n",
       "94788       0       5570     5.0            8               8\n",
       "24031       1       1627     4.0            8               8\n",
       "26446       1       1783     4.0            8               8\n",
       "81863       1       4923     3.0            8               1\n",
       "58489       1       3806     4.0            8               8\n",
       "69241       2       4447     5.0            8               2"
      ]
     },
     "execution_count": 26,
     "metadata": {},
     "output_type": "execute_result"
    }
   ],
   "source": [
    "df.sort_values(\"UserId\").head(10)"
   ]
  },
  {
   "cell_type": "code",
   "execution_count": 27,
   "metadata": {},
   "outputs": [],
   "source": [
    "df.to_csv(\"Collab_Filtering.csv\")"
   ]
  },
  {
   "cell_type": "code",
   "execution_count": null,
   "metadata": {},
   "outputs": [],
   "source": []
  }
 ],
 "metadata": {
  "kernelspec": {
   "display_name": "Python 3",
   "language": "python",
   "name": "python3"
  },
  "language_info": {
   "codemirror_mode": {
    "name": "ipython",
    "version": 3
   },
   "file_extension": ".py",
   "mimetype": "text/x-python",
   "name": "python",
   "nbconvert_exporter": "python",
   "pygments_lexer": "ipython3",
   "version": "3.8.5"
  },
  "varInspector": {
   "cols": {
    "lenName": 16,
    "lenType": 16,
    "lenVar": 40
   },
   "kernels_config": {
    "python": {
     "delete_cmd_postfix": "",
     "delete_cmd_prefix": "del ",
     "library": "var_list.py",
     "varRefreshCmd": "print(var_dic_list())"
    },
    "r": {
     "delete_cmd_postfix": ") ",
     "delete_cmd_prefix": "rm(",
     "library": "var_list.r",
     "varRefreshCmd": "cat(var_dic_list()) "
    }
   },
   "types_to_exclude": [
    "module",
    "function",
    "builtin_function_or_method",
    "instance",
    "_Feature"
   ],
   "window_display": false
  }
 },
 "nbformat": 4,
 "nbformat_minor": 4
}
